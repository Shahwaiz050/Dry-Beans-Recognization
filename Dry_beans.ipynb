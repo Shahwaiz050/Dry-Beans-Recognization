{
 "cells": [
  {
   "cell_type": "markdown",
   "id": "d2d333f6",
   "metadata": {},
   "source": [
    "# Data set"
   ]
  },
  {
   "cell_type": "markdown",
   "id": "e7e0dd3c",
   "metadata": {},
   "source": [
    "https://archive.ics.uci.edu/ml/machine-learning-databases/00602/"
   ]
  },
  {
   "cell_type": "markdown",
   "id": "9d0bce33",
   "metadata": {},
   "source": [
    "Import the libraries:"
   ]
  },
  {
   "cell_type": "code",
   "execution_count": 140,
   "id": "1e92e815",
   "metadata": {},
   "outputs": [],
   "source": [
    "import pandas as pd\n",
    "import numpy as np\n",
    "from sklearn import preprocessing\n",
    "from sklearn.neighbors import KNeighborsClassifier\n",
    "from sklearn import metrics\n",
    "import matplotlib.pyplot as plt"
   ]
  },
  {
   "cell_type": "code",
   "execution_count": 141,
   "id": "89943e48",
   "metadata": {},
   "outputs": [
    {
     "data": {
      "text/html": [
       "<div>\n",
       "<style scoped>\n",
       "    .dataframe tbody tr th:only-of-type {\n",
       "        vertical-align: middle;\n",
       "    }\n",
       "\n",
       "    .dataframe tbody tr th {\n",
       "        vertical-align: top;\n",
       "    }\n",
       "\n",
       "    .dataframe thead th {\n",
       "        text-align: right;\n",
       "    }\n",
       "</style>\n",
       "<table border=\"1\" class=\"dataframe\">\n",
       "  <thead>\n",
       "    <tr style=\"text-align: right;\">\n",
       "      <th></th>\n",
       "      <th>Area</th>\n",
       "      <th>Perimeter</th>\n",
       "      <th>MajorAxisLength</th>\n",
       "      <th>MinorAxisLength</th>\n",
       "      <th>AspectRation</th>\n",
       "      <th>Eccentricity</th>\n",
       "      <th>ConvexArea</th>\n",
       "      <th>EquivDiameter</th>\n",
       "      <th>Extent</th>\n",
       "      <th>Solidity</th>\n",
       "      <th>roundness</th>\n",
       "      <th>Compactness</th>\n",
       "      <th>ShapeFactor1</th>\n",
       "      <th>ShapeFactor2</th>\n",
       "      <th>ShapeFactor3</th>\n",
       "      <th>ShapeFactor4</th>\n",
       "      <th>Class</th>\n",
       "    </tr>\n",
       "  </thead>\n",
       "  <tbody>\n",
       "    <tr>\n",
       "      <th>0</th>\n",
       "      <td>28395</td>\n",
       "      <td>610.291</td>\n",
       "      <td>208.178117</td>\n",
       "      <td>173.888747</td>\n",
       "      <td>1.197191</td>\n",
       "      <td>0.549812</td>\n",
       "      <td>28715</td>\n",
       "      <td>190.141097</td>\n",
       "      <td>0.763923</td>\n",
       "      <td>0.988856</td>\n",
       "      <td>0.958027</td>\n",
       "      <td>0.913358</td>\n",
       "      <td>0.007332</td>\n",
       "      <td>0.003147</td>\n",
       "      <td>0.834222</td>\n",
       "      <td>0.998724</td>\n",
       "      <td>SEKER</td>\n",
       "    </tr>\n",
       "    <tr>\n",
       "      <th>1</th>\n",
       "      <td>28734</td>\n",
       "      <td>638.018</td>\n",
       "      <td>200.524796</td>\n",
       "      <td>182.734419</td>\n",
       "      <td>1.097356</td>\n",
       "      <td>0.411785</td>\n",
       "      <td>29172</td>\n",
       "      <td>191.272751</td>\n",
       "      <td>0.783968</td>\n",
       "      <td>0.984986</td>\n",
       "      <td>0.887034</td>\n",
       "      <td>0.953861</td>\n",
       "      <td>0.006979</td>\n",
       "      <td>0.003564</td>\n",
       "      <td>0.909851</td>\n",
       "      <td>0.998430</td>\n",
       "      <td>SEKER</td>\n",
       "    </tr>\n",
       "    <tr>\n",
       "      <th>2</th>\n",
       "      <td>29380</td>\n",
       "      <td>624.110</td>\n",
       "      <td>212.826130</td>\n",
       "      <td>175.931143</td>\n",
       "      <td>1.209713</td>\n",
       "      <td>0.562727</td>\n",
       "      <td>29690</td>\n",
       "      <td>193.410904</td>\n",
       "      <td>0.778113</td>\n",
       "      <td>0.989559</td>\n",
       "      <td>0.947849</td>\n",
       "      <td>0.908774</td>\n",
       "      <td>0.007244</td>\n",
       "      <td>0.003048</td>\n",
       "      <td>0.825871</td>\n",
       "      <td>0.999066</td>\n",
       "      <td>SEKER</td>\n",
       "    </tr>\n",
       "    <tr>\n",
       "      <th>3</th>\n",
       "      <td>30008</td>\n",
       "      <td>645.884</td>\n",
       "      <td>210.557999</td>\n",
       "      <td>182.516516</td>\n",
       "      <td>1.153638</td>\n",
       "      <td>0.498616</td>\n",
       "      <td>30724</td>\n",
       "      <td>195.467062</td>\n",
       "      <td>0.782681</td>\n",
       "      <td>0.976696</td>\n",
       "      <td>0.903936</td>\n",
       "      <td>0.928329</td>\n",
       "      <td>0.007017</td>\n",
       "      <td>0.003215</td>\n",
       "      <td>0.861794</td>\n",
       "      <td>0.994199</td>\n",
       "      <td>SEKER</td>\n",
       "    </tr>\n",
       "    <tr>\n",
       "      <th>4</th>\n",
       "      <td>30140</td>\n",
       "      <td>620.134</td>\n",
       "      <td>201.847882</td>\n",
       "      <td>190.279279</td>\n",
       "      <td>1.060798</td>\n",
       "      <td>0.333680</td>\n",
       "      <td>30417</td>\n",
       "      <td>195.896503</td>\n",
       "      <td>0.773098</td>\n",
       "      <td>0.990893</td>\n",
       "      <td>0.984877</td>\n",
       "      <td>0.970516</td>\n",
       "      <td>0.006697</td>\n",
       "      <td>0.003665</td>\n",
       "      <td>0.941900</td>\n",
       "      <td>0.999166</td>\n",
       "      <td>SEKER</td>\n",
       "    </tr>\n",
       "  </tbody>\n",
       "</table>\n",
       "</div>"
      ],
      "text/plain": [
       "    Area  Perimeter  MajorAxisLength  MinorAxisLength  AspectRation  \\\n",
       "0  28395    610.291       208.178117       173.888747      1.197191   \n",
       "1  28734    638.018       200.524796       182.734419      1.097356   \n",
       "2  29380    624.110       212.826130       175.931143      1.209713   \n",
       "3  30008    645.884       210.557999       182.516516      1.153638   \n",
       "4  30140    620.134       201.847882       190.279279      1.060798   \n",
       "\n",
       "   Eccentricity  ConvexArea  EquivDiameter    Extent  Solidity  roundness  \\\n",
       "0      0.549812       28715     190.141097  0.763923  0.988856   0.958027   \n",
       "1      0.411785       29172     191.272751  0.783968  0.984986   0.887034   \n",
       "2      0.562727       29690     193.410904  0.778113  0.989559   0.947849   \n",
       "3      0.498616       30724     195.467062  0.782681  0.976696   0.903936   \n",
       "4      0.333680       30417     195.896503  0.773098  0.990893   0.984877   \n",
       "\n",
       "   Compactness  ShapeFactor1  ShapeFactor2  ShapeFactor3  ShapeFactor4  Class  \n",
       "0     0.913358      0.007332      0.003147      0.834222      0.998724  SEKER  \n",
       "1     0.953861      0.006979      0.003564      0.909851      0.998430  SEKER  \n",
       "2     0.908774      0.007244      0.003048      0.825871      0.999066  SEKER  \n",
       "3     0.928329      0.007017      0.003215      0.861794      0.994199  SEKER  \n",
       "4     0.970516      0.006697      0.003665      0.941900      0.999166  SEKER  "
      ]
     },
     "execution_count": 141,
     "metadata": {},
     "output_type": "execute_result"
    }
   ],
   "source": [
    "#import the dataset:\n",
    "df = pd.read_csv('C:\\\\Users\\\\Shahwaiz Tahir\\\\Desktop\\\\Python Analysis\\\\Dry_Bean_Dataset_1.csv')\n",
    "df.head()"
   ]
  },
  {
   "cell_type": "markdown",
   "id": "308d45f2",
   "metadata": {},
   "source": [
    "Keys of the dataset:"
   ]
  },
  {
   "cell_type": "code",
   "execution_count": 6,
   "id": "fb556aba",
   "metadata": {},
   "outputs": [
    {
     "name": "stdout",
     "output_type": "stream",
     "text": [
      "Index(['Area', 'Perimeter', 'MajorAxisLength', 'MinorAxisLength',\n",
      "       'AspectRation', 'Eccentricity', 'ConvexArea', 'EquivDiameter', 'Extent',\n",
      "       'Solidity', 'roundness', 'Compactness', 'ShapeFactor1', 'ShapeFactor2',\n",
      "       'ShapeFactor3', 'ShapeFactor4', 'Class'],\n",
      "      dtype='object')\n"
     ]
    }
   ],
   "source": [
    "print(df.keys())"
   ]
  },
  {
   "cell_type": "markdown",
   "id": "7a9f83a3",
   "metadata": {},
   "source": [
    "No. of Rows & Columns respectively:"
   ]
  },
  {
   "cell_type": "code",
   "execution_count": 7,
   "id": "1525f36d",
   "metadata": {},
   "outputs": [
    {
     "name": "stdout",
     "output_type": "stream",
     "text": [
      "(13611, 17)\n"
     ]
    }
   ],
   "source": [
    "print(df.shape)"
   ]
  },
  {
   "cell_type": "code",
   "execution_count": 142,
   "id": "2cad7717",
   "metadata": {},
   "outputs": [],
   "source": [
    "#Check either the data is null or not:\n",
    "mv=df.isnull()"
   ]
  },
  {
   "cell_type": "code",
   "execution_count": 143,
   "id": "171d073c",
   "metadata": {},
   "outputs": [
    {
     "name": "stdout",
     "output_type": "stream",
     "text": [
      "Area\n",
      "False    13611\n",
      "Name: Area, dtype: int64\n",
      "\n",
      "Perimeter\n",
      "False    13611\n",
      "Name: Perimeter, dtype: int64\n",
      "\n",
      "MajorAxisLength\n",
      "False    13611\n",
      "Name: MajorAxisLength, dtype: int64\n",
      "\n",
      "MinorAxisLength\n",
      "False    13611\n",
      "Name: MinorAxisLength, dtype: int64\n",
      "\n",
      "AspectRation\n",
      "False    13611\n",
      "Name: AspectRation, dtype: int64\n",
      "\n",
      "Eccentricity\n",
      "False    13611\n",
      "Name: Eccentricity, dtype: int64\n",
      "\n",
      "ConvexArea\n",
      "False    13611\n",
      "Name: ConvexArea, dtype: int64\n",
      "\n",
      "EquivDiameter\n",
      "False    13611\n",
      "Name: EquivDiameter, dtype: int64\n",
      "\n",
      "Extent\n",
      "False    13611\n",
      "Name: Extent, dtype: int64\n",
      "\n",
      "Solidity\n",
      "False    13611\n",
      "Name: Solidity, dtype: int64\n",
      "\n",
      "roundness\n",
      "False    13611\n",
      "Name: roundness, dtype: int64\n",
      "\n",
      "Compactness\n",
      "False    13611\n",
      "Name: Compactness, dtype: int64\n",
      "\n",
      "ShapeFactor1\n",
      "False    13611\n",
      "Name: ShapeFactor1, dtype: int64\n",
      "\n",
      "ShapeFactor2\n",
      "False    13611\n",
      "Name: ShapeFactor2, dtype: int64\n",
      "\n",
      "ShapeFactor3\n",
      "False    13611\n",
      "Name: ShapeFactor3, dtype: int64\n",
      "\n",
      "ShapeFactor4\n",
      "False    13611\n",
      "Name: ShapeFactor4, dtype: int64\n",
      "\n",
      "Class\n",
      "False    13611\n",
      "Name: Class, dtype: int64\n",
      "\n"
     ]
    }
   ],
   "source": [
    "for column in mv.columns.values.tolist():\n",
    "    print(column)\n",
    "    print(mv[column].value_counts())\n",
    "    print(\"\")"
   ]
  },
  {
   "cell_type": "code",
   "execution_count": 144,
   "id": "279a0c14",
   "metadata": {},
   "outputs": [
    {
     "data": {
      "text/html": [
       "<div>\n",
       "<style scoped>\n",
       "    .dataframe tbody tr th:only-of-type {\n",
       "        vertical-align: middle;\n",
       "    }\n",
       "\n",
       "    .dataframe tbody tr th {\n",
       "        vertical-align: top;\n",
       "    }\n",
       "\n",
       "    .dataframe thead th {\n",
       "        text-align: right;\n",
       "    }\n",
       "</style>\n",
       "<table border=\"1\" class=\"dataframe\">\n",
       "  <thead>\n",
       "    <tr style=\"text-align: right;\">\n",
       "      <th></th>\n",
       "      <th>Area</th>\n",
       "      <th>Perimeter</th>\n",
       "      <th>MajorAxisLength</th>\n",
       "      <th>MinorAxisLength</th>\n",
       "      <th>AspectRation</th>\n",
       "      <th>Eccentricity</th>\n",
       "      <th>ConvexArea</th>\n",
       "      <th>EquivDiameter</th>\n",
       "      <th>Extent</th>\n",
       "      <th>Solidity</th>\n",
       "      <th>roundness</th>\n",
       "      <th>Compactness</th>\n",
       "      <th>ShapeFactor1</th>\n",
       "      <th>ShapeFactor2</th>\n",
       "      <th>ShapeFactor3</th>\n",
       "      <th>ShapeFactor4</th>\n",
       "    </tr>\n",
       "  </thead>\n",
       "  <tbody>\n",
       "    <tr>\n",
       "      <th>count</th>\n",
       "      <td>13611.000000</td>\n",
       "      <td>13611.000000</td>\n",
       "      <td>13611.000000</td>\n",
       "      <td>13611.000000</td>\n",
       "      <td>13611.000000</td>\n",
       "      <td>13611.000000</td>\n",
       "      <td>13611.000000</td>\n",
       "      <td>13611.000000</td>\n",
       "      <td>13611.000000</td>\n",
       "      <td>13611.000000</td>\n",
       "      <td>13611.000000</td>\n",
       "      <td>13611.000000</td>\n",
       "      <td>13611.000000</td>\n",
       "      <td>13611.000000</td>\n",
       "      <td>13611.000000</td>\n",
       "      <td>13611.000000</td>\n",
       "    </tr>\n",
       "    <tr>\n",
       "      <th>mean</th>\n",
       "      <td>53048.284549</td>\n",
       "      <td>855.283459</td>\n",
       "      <td>320.141867</td>\n",
       "      <td>202.270714</td>\n",
       "      <td>1.583242</td>\n",
       "      <td>0.750895</td>\n",
       "      <td>53768.200206</td>\n",
       "      <td>253.064220</td>\n",
       "      <td>0.749733</td>\n",
       "      <td>0.987143</td>\n",
       "      <td>0.873282</td>\n",
       "      <td>0.799864</td>\n",
       "      <td>0.006564</td>\n",
       "      <td>0.001716</td>\n",
       "      <td>0.643590</td>\n",
       "      <td>0.995063</td>\n",
       "    </tr>\n",
       "    <tr>\n",
       "      <th>std</th>\n",
       "      <td>29324.095717</td>\n",
       "      <td>214.289696</td>\n",
       "      <td>85.694186</td>\n",
       "      <td>44.970091</td>\n",
       "      <td>0.246678</td>\n",
       "      <td>0.092002</td>\n",
       "      <td>29774.915817</td>\n",
       "      <td>59.177120</td>\n",
       "      <td>0.049086</td>\n",
       "      <td>0.004660</td>\n",
       "      <td>0.059520</td>\n",
       "      <td>0.061713</td>\n",
       "      <td>0.001128</td>\n",
       "      <td>0.000596</td>\n",
       "      <td>0.098996</td>\n",
       "      <td>0.004366</td>\n",
       "    </tr>\n",
       "    <tr>\n",
       "      <th>min</th>\n",
       "      <td>20420.000000</td>\n",
       "      <td>524.736000</td>\n",
       "      <td>183.601165</td>\n",
       "      <td>122.512653</td>\n",
       "      <td>1.024868</td>\n",
       "      <td>0.218951</td>\n",
       "      <td>20684.000000</td>\n",
       "      <td>161.243764</td>\n",
       "      <td>0.555315</td>\n",
       "      <td>0.919246</td>\n",
       "      <td>0.489618</td>\n",
       "      <td>0.640577</td>\n",
       "      <td>0.002778</td>\n",
       "      <td>0.000564</td>\n",
       "      <td>0.410339</td>\n",
       "      <td>0.947687</td>\n",
       "    </tr>\n",
       "    <tr>\n",
       "      <th>25%</th>\n",
       "      <td>36328.000000</td>\n",
       "      <td>703.523500</td>\n",
       "      <td>253.303633</td>\n",
       "      <td>175.848170</td>\n",
       "      <td>1.432307</td>\n",
       "      <td>0.715928</td>\n",
       "      <td>36714.500000</td>\n",
       "      <td>215.068003</td>\n",
       "      <td>0.718634</td>\n",
       "      <td>0.985670</td>\n",
       "      <td>0.832096</td>\n",
       "      <td>0.762469</td>\n",
       "      <td>0.005900</td>\n",
       "      <td>0.001154</td>\n",
       "      <td>0.581359</td>\n",
       "      <td>0.993703</td>\n",
       "    </tr>\n",
       "    <tr>\n",
       "      <th>50%</th>\n",
       "      <td>44652.000000</td>\n",
       "      <td>794.941000</td>\n",
       "      <td>296.883367</td>\n",
       "      <td>192.431733</td>\n",
       "      <td>1.551124</td>\n",
       "      <td>0.764441</td>\n",
       "      <td>45178.000000</td>\n",
       "      <td>238.438026</td>\n",
       "      <td>0.759859</td>\n",
       "      <td>0.988283</td>\n",
       "      <td>0.883157</td>\n",
       "      <td>0.801277</td>\n",
       "      <td>0.006645</td>\n",
       "      <td>0.001694</td>\n",
       "      <td>0.642044</td>\n",
       "      <td>0.996386</td>\n",
       "    </tr>\n",
       "    <tr>\n",
       "      <th>75%</th>\n",
       "      <td>61332.000000</td>\n",
       "      <td>977.213000</td>\n",
       "      <td>376.495012</td>\n",
       "      <td>217.031741</td>\n",
       "      <td>1.707109</td>\n",
       "      <td>0.810466</td>\n",
       "      <td>62294.000000</td>\n",
       "      <td>279.446467</td>\n",
       "      <td>0.786851</td>\n",
       "      <td>0.990013</td>\n",
       "      <td>0.916869</td>\n",
       "      <td>0.834270</td>\n",
       "      <td>0.007271</td>\n",
       "      <td>0.002170</td>\n",
       "      <td>0.696006</td>\n",
       "      <td>0.997883</td>\n",
       "    </tr>\n",
       "    <tr>\n",
       "      <th>max</th>\n",
       "      <td>254616.000000</td>\n",
       "      <td>1985.370000</td>\n",
       "      <td>738.860154</td>\n",
       "      <td>460.198497</td>\n",
       "      <td>2.430306</td>\n",
       "      <td>0.911423</td>\n",
       "      <td>263261.000000</td>\n",
       "      <td>569.374358</td>\n",
       "      <td>0.866195</td>\n",
       "      <td>0.994677</td>\n",
       "      <td>0.990685</td>\n",
       "      <td>0.987303</td>\n",
       "      <td>0.010451</td>\n",
       "      <td>0.003665</td>\n",
       "      <td>0.974767</td>\n",
       "      <td>0.999733</td>\n",
       "    </tr>\n",
       "  </tbody>\n",
       "</table>\n",
       "</div>"
      ],
      "text/plain": [
       "                Area     Perimeter  MajorAxisLength  MinorAxisLength  \\\n",
       "count   13611.000000  13611.000000     13611.000000     13611.000000   \n",
       "mean    53048.284549    855.283459       320.141867       202.270714   \n",
       "std     29324.095717    214.289696        85.694186        44.970091   \n",
       "min     20420.000000    524.736000       183.601165       122.512653   \n",
       "25%     36328.000000    703.523500       253.303633       175.848170   \n",
       "50%     44652.000000    794.941000       296.883367       192.431733   \n",
       "75%     61332.000000    977.213000       376.495012       217.031741   \n",
       "max    254616.000000   1985.370000       738.860154       460.198497   \n",
       "\n",
       "       AspectRation  Eccentricity     ConvexArea  EquivDiameter        Extent  \\\n",
       "count  13611.000000  13611.000000   13611.000000   13611.000000  13611.000000   \n",
       "mean       1.583242      0.750895   53768.200206     253.064220      0.749733   \n",
       "std        0.246678      0.092002   29774.915817      59.177120      0.049086   \n",
       "min        1.024868      0.218951   20684.000000     161.243764      0.555315   \n",
       "25%        1.432307      0.715928   36714.500000     215.068003      0.718634   \n",
       "50%        1.551124      0.764441   45178.000000     238.438026      0.759859   \n",
       "75%        1.707109      0.810466   62294.000000     279.446467      0.786851   \n",
       "max        2.430306      0.911423  263261.000000     569.374358      0.866195   \n",
       "\n",
       "           Solidity     roundness   Compactness  ShapeFactor1  ShapeFactor2  \\\n",
       "count  13611.000000  13611.000000  13611.000000  13611.000000  13611.000000   \n",
       "mean       0.987143      0.873282      0.799864      0.006564      0.001716   \n",
       "std        0.004660      0.059520      0.061713      0.001128      0.000596   \n",
       "min        0.919246      0.489618      0.640577      0.002778      0.000564   \n",
       "25%        0.985670      0.832096      0.762469      0.005900      0.001154   \n",
       "50%        0.988283      0.883157      0.801277      0.006645      0.001694   \n",
       "75%        0.990013      0.916869      0.834270      0.007271      0.002170   \n",
       "max        0.994677      0.990685      0.987303      0.010451      0.003665   \n",
       "\n",
       "       ShapeFactor3  ShapeFactor4  \n",
       "count  13611.000000  13611.000000  \n",
       "mean       0.643590      0.995063  \n",
       "std        0.098996      0.004366  \n",
       "min        0.410339      0.947687  \n",
       "25%        0.581359      0.993703  \n",
       "50%        0.642044      0.996386  \n",
       "75%        0.696006      0.997883  \n",
       "max        0.974767      0.999733  "
      ]
     },
     "execution_count": 144,
     "metadata": {},
     "output_type": "execute_result"
    }
   ],
   "source": [
    "#statistic of the dataset:\n",
    "df.describe()"
   ]
  },
  {
   "cell_type": "code",
   "execution_count": 145,
   "id": "9b29c572",
   "metadata": {},
   "outputs": [
    {
     "data": {
      "text/plain": [
       "array([[2.83950000e+04, 6.10291000e+02, 2.08178117e+02, ...,\n",
       "        3.14728900e-03, 8.34222388e-01, 9.98723889e-01],\n",
       "       [2.87340000e+04, 6.38018000e+02, 2.00524796e+02, ...,\n",
       "        3.56362400e-03, 9.09850506e-01, 9.98430331e-01],\n",
       "       [2.93800000e+04, 6.24110000e+02, 2.12826130e+02, ...,\n",
       "        3.04773300e-03, 8.25870617e-01, 9.99066137e-01],\n",
       "       ...,\n",
       "       [4.21390000e+04, 7.59321000e+02, 2.81539928e+02, ...,\n",
       "        1.88827100e-03, 6.76884164e-01, 9.96767264e-01],\n",
       "       [4.21470000e+04, 7.63779000e+02, 2.83382636e+02, ...,\n",
       "        1.85202500e-03, 6.68236684e-01, 9.95222420e-01],\n",
       "       [4.21590000e+04, 7.72237000e+02, 2.95142741e+02, ...,\n",
       "        1.63981200e-03, 6.16220592e-01, 9.98179623e-01]])"
      ]
     },
     "execution_count": 145,
     "metadata": {},
     "output_type": "execute_result"
    }
   ],
   "source": [
    "#Train dataset:\n",
    "X = df.loc[:,'Area':'ShapeFactor4'].values\n",
    "X"
   ]
  },
  {
   "cell_type": "code",
   "execution_count": 146,
   "id": "b34c4ffb",
   "metadata": {},
   "outputs": [
    {
     "data": {
      "text/plain": [
       "6    3546\n",
       "5    2636\n",
       "0    2027\n",
       "4    1928\n",
       "3    1630\n",
       "1    1322\n",
       "2     522\n",
       "Name: Code, dtype: int64"
      ]
     },
     "execution_count": 146,
     "metadata": {},
     "output_type": "execute_result"
    }
   ],
   "source": [
    "#Conversion of categorical data into numeric:\n",
    "df['Code']=pd.factorize(df.Class)[0]\n",
    "df['Code'].value_counts()"
   ]
  },
  {
   "cell_type": "code",
   "execution_count": 147,
   "id": "0063fb51",
   "metadata": {},
   "outputs": [],
   "source": [
    "#Target value of the dataset:\n",
    "y = df.iloc[:,-1]"
   ]
  },
  {
   "cell_type": "code",
   "execution_count": 148,
   "id": "207aa773",
   "metadata": {},
   "outputs": [
    {
     "data": {
      "text/plain": [
       "Area                 int64\n",
       "Perimeter          float64\n",
       "MajorAxisLength    float64\n",
       "MinorAxisLength    float64\n",
       "AspectRation       float64\n",
       "Eccentricity       float64\n",
       "ConvexArea           int64\n",
       "EquivDiameter      float64\n",
       "Extent             float64\n",
       "Solidity           float64\n",
       "roundness          float64\n",
       "Compactness        float64\n",
       "ShapeFactor1       float64\n",
       "ShapeFactor2       float64\n",
       "ShapeFactor3       float64\n",
       "ShapeFactor4       float64\n",
       "Class               object\n",
       "Code                 int64\n",
       "dtype: object"
      ]
     },
     "execution_count": 148,
     "metadata": {},
     "output_type": "execute_result"
    }
   ],
   "source": [
    "#data types of each attribute:\n",
    "df.dtypes"
   ]
  },
  {
   "cell_type": "code",
   "execution_count": 149,
   "id": "e499283f",
   "metadata": {},
   "outputs": [
    {
     "data": {
      "text/plain": [
       "array([[-0.84074853, -1.1433189 , -1.30659814, ...,  2.4021726 ,\n",
       "         1.92572347,  0.83837102],\n",
       "       [-0.82918764, -1.01392388, -1.39591111, ...,  3.10089364,\n",
       "         2.68970162,  0.77113831],\n",
       "       [-0.80715717, -1.07882906, -1.25235661, ...,  2.23509111,\n",
       "         1.84135576,  0.91675506],\n",
       "       ...,\n",
       "       [-0.37203825, -0.44783294, -0.45047814, ...,  0.28920501,\n",
       "         0.33632829,  0.39025106],\n",
       "       [-0.37176543, -0.42702856, -0.42897404, ...,  0.22837456,\n",
       "         0.2489734 ,  0.03644007],\n",
       "       [-0.37135619, -0.38755718, -0.2917356 , ..., -0.12777538,\n",
       "        -0.27648141,  0.71371941]])"
      ]
     },
     "execution_count": 149,
     "metadata": {},
     "output_type": "execute_result"
    }
   ],
   "source": [
    "#standalizing the data:\n",
    "X = preprocessing.StandardScaler().fit(X).transform(X.astype(float))\n",
    "X"
   ]
  },
  {
   "cell_type": "code",
   "execution_count": 150,
   "id": "8dcca151",
   "metadata": {},
   "outputs": [
    {
     "name": "stdout",
     "output_type": "stream",
     "text": [
      "Actual_Values: (10888, 16)(10888,)\n",
      "Predicted_Values: (2723, 16)(2723,)\n"
     ]
    }
   ],
   "source": [
    "#import the library to split the data into teest and train set:\n",
    "from sklearn.model_selection import train_test_split\n",
    "\n",
    "#Splitting the dataset into training and testing:\n",
    "X_train,X_test,y_train,y_test = train_test_split(X,y, train_size=0.8, random_state=0)\n",
    "print(f\"Actual_Values: {X_train.shape}{y_train.shape}\")\n",
    "print(f'Predicted_Values: {X_test.shape}{y_test.shape}')"
   ]
  },
  {
   "cell_type": "markdown",
   "id": "34b9f41e",
   "metadata": {},
   "source": [
    "# K-Nearest Neighbors"
   ]
  },
  {
   "cell_type": "code",
   "execution_count": 152,
   "id": "a1bc68b0",
   "metadata": {},
   "outputs": [
    {
     "name": "stdout",
     "output_type": "stream",
     "text": [
      "Predicted Values: [6 6 6 ... 0 1 6]\n",
      "Accuracy: [0.92765332 0.92765332 0.92765332 0.92765332 0.92765332 0.92765332\n",
      " 0.92765332 0.92765332 0.92765332 0.92765332 0.92765332]\n",
      "\n"
     ]
    }
   ],
   "source": [
    "#method to predict the predicted value and to check the accuracy of the predicted value:\n",
    "K = 12\n",
    "acc = np.zeros((K-1))\n",
    "#yhat = np.zeros((K-1))\n",
    "for n in range(1,K):\n",
    "    neigh = KNeighborsClassifier(n_neighbors=K).fit(X_train,y_train)\n",
    "    yhat = neigh.predict(X_test)\n",
    "    acc[n-1]= metrics.accuracy_score(y_test,yhat)\n",
    "               \n",
    "print(f'Predicted Values: {yhat}')\n",
    "print(f'Accuracy: {acc}')\n",
    "print(\"\")"
   ]
  },
  {
   "cell_type": "code",
   "execution_count": 153,
   "id": "9b4463b1",
   "metadata": {},
   "outputs": [
    {
     "name": "stdout",
     "output_type": "stream",
     "text": [
      "The best accuracy was with 0.927653323540213 with k= 1\n"
     ]
    }
   ],
   "source": [
    "#accuracy\n",
    "aCC = acc.max()\n",
    "\n",
    "#accuracy with the value of K:\n",
    "print( \"The best accuracy was with\", acc.max(), \"with k=\", acc.argmax()+1)"
   ]
  },
  {
   "cell_type": "markdown",
   "id": "672703c8",
   "metadata": {},
   "source": [
    "K-Fold Cross Validation:"
   ]
  },
  {
   "cell_type": "code",
   "execution_count": 156,
   "id": "abcac94f",
   "metadata": {},
   "outputs": [
    {
     "data": {
      "text/plain": [
       "array([0.92470156, 0.92745638, 0.91000918, 0.91919192, 0.93112948,\n",
       "       0.9302112 , 0.91827365, 0.92561983, 0.921875  , 0.92095588])"
      ]
     },
     "execution_count": 156,
     "metadata": {},
     "output_type": "execute_result"
    }
   ],
   "source": [
    "#import the library for cross validation:\n",
    "from sklearn.model_selection import cross_val_score\n",
    "\n",
    "knn=KNeighborsClassifier(n_neighbors=10)\n",
    "score = cross_val_score(knn, X_train,y_train,cv=10)\n",
    "score"
   ]
  },
  {
   "cell_type": "code",
   "execution_count": 239,
   "id": "7c911aa7",
   "metadata": {},
   "outputs": [
    {
     "data": {
      "text/plain": [
       "0.9229"
      ]
     },
     "execution_count": 239,
     "metadata": {},
     "output_type": "execute_result"
    }
   ],
   "source": [
    "#mean the validation score:\n",
    "mean1=np.mean(score)\n",
    "R1 = round(mean1,4)\n",
    "R1"
   ]
  },
  {
   "cell_type": "code",
   "execution_count": 180,
   "id": "d38e61bf",
   "metadata": {},
   "outputs": [
    {
     "data": {
      "text/plain": [
       "'Accuracy = 92.7653323540213%'"
      ]
     },
     "execution_count": 180,
     "metadata": {},
     "output_type": "execute_result"
    }
   ],
   "source": [
    "#accuracy in percentage:\n",
    "aCC_1=\"Accuracy = {}%\".format((sum(y_test==yhat)/y_test.shape[0])*100)\n",
    "aCC_1"
   ]
  },
  {
   "cell_type": "code",
   "execution_count": 182,
   "id": "5c1b2f5c",
   "metadata": {},
   "outputs": [
    {
     "name": "stdout",
     "output_type": "stream",
     "text": [
      "92.77 %\n"
     ]
    }
   ],
   "source": [
    "#round off the value\n",
    "r1 = round(92.7653323540213,2)\n",
    "print(r1,'%')"
   ]
  },
  {
   "cell_type": "markdown",
   "id": "84b8fe69",
   "metadata": {},
   "source": [
    "\n",
    "\n",
    "# SVM"
   ]
  },
  {
   "cell_type": "code",
   "execution_count": 160,
   "id": "c2c40711",
   "metadata": {},
   "outputs": [],
   "source": [
    "#import the library:\n",
    "from sklearn.svm import SVC"
   ]
  },
  {
   "cell_type": "code",
   "execution_count": 161,
   "id": "8d7df610",
   "metadata": {},
   "outputs": [
    {
     "data": {
      "text/plain": [
       "SVC()"
      ]
     },
     "execution_count": 161,
     "metadata": {},
     "output_type": "execute_result"
    }
   ],
   "source": [
    "#intializing the svm\n",
    "classifier = SVC()  \n",
    "\n",
    "#fit the data into the model\n",
    "classifier.fit(X_train, y_train) "
   ]
  },
  {
   "cell_type": "code",
   "execution_count": 162,
   "id": "7457f45e",
   "metadata": {},
   "outputs": [
    {
     "data": {
      "text/plain": [
       "array([6, 6, 6, ..., 0, 1, 6], dtype=int64)"
      ]
     },
     "execution_count": 162,
     "metadata": {},
     "output_type": "execute_result"
    }
   ],
   "source": [
    "#predicted value\n",
    "y_pred= classifier.predict(X_test)\n",
    "y_pred"
   ]
  },
  {
   "cell_type": "code",
   "execution_count": 163,
   "id": "5002443b",
   "metadata": {},
   "outputs": [
    {
     "name": "stdout",
     "output_type": "stream",
     "text": [
      "Accuracy Score:0.9349981637899376\n"
     ]
    }
   ],
   "source": [
    "#Check the accuracy of the predicted value\n",
    "sv_acc = metrics.accuracy_score(y_test,y_pred)\n",
    "print('Accuracy Score:{}'.format(sv_acc))"
   ]
  },
  {
   "cell_type": "markdown",
   "id": "af462df5",
   "metadata": {},
   "source": [
    "K-Fold Cross Validation:"
   ]
  },
  {
   "cell_type": "code",
   "execution_count": 164,
   "id": "9e9d9964",
   "metadata": {},
   "outputs": [
    {
     "data": {
      "text/plain": [
       "array([0.92653811, 0.92470156, 0.92011019, 0.92470156, 0.93296602,\n",
       "       0.93847567, 0.9164371 , 0.93572084, 0.92738971, 0.92738971])"
      ]
     },
     "execution_count": 164,
     "metadata": {},
     "output_type": "execute_result"
    }
   ],
   "source": [
    "#import the library for cross validation:\n",
    "from sklearn.model_selection import cross_val_score\n",
    "\n",
    "s_v_m=SVC()\n",
    "score_1 = cross_val_score(s_v_m, X_train,y_train,cv=10)\n",
    "score_1"
   ]
  },
  {
   "cell_type": "code",
   "execution_count": 238,
   "id": "e3552505",
   "metadata": {},
   "outputs": [
    {
     "data": {
      "text/plain": [
       "0.9274"
      ]
     },
     "execution_count": 238,
     "metadata": {},
     "output_type": "execute_result"
    }
   ],
   "source": [
    "#mean of validation score \n",
    "mean2 = np.mean(score_1)\n",
    "R2 = round(mean2,4)\n",
    "R2"
   ]
  },
  {
   "cell_type": "code",
   "execution_count": 176,
   "id": "cd35272e",
   "metadata": {},
   "outputs": [
    {
     "name": "stdout",
     "output_type": "stream",
     "text": [
      "Accuracy = 93.49981637899376%\n"
     ]
    }
   ],
   "source": [
    "#accuracy in percentage:\n",
    "aCC_2=\"Accuracy = {}%\".format((sum(y_test==y_pred)/y_test.shape[0])*100)\n",
    "print(aCC_2)"
   ]
  },
  {
   "cell_type": "code",
   "execution_count": 184,
   "id": "6fa97b1a",
   "metadata": {},
   "outputs": [
    {
     "name": "stdout",
     "output_type": "stream",
     "text": [
      "93.5 %\n"
     ]
    }
   ],
   "source": [
    "#round off the value\n",
    "r2 = round(93.49981637899376,2)\n",
    "print(r2,'%')"
   ]
  },
  {
   "cell_type": "markdown",
   "id": "a46759f6",
   "metadata": {},
   "source": [
    "# Naive Bayes"
   ]
  },
  {
   "cell_type": "code",
   "execution_count": 167,
   "id": "158c5985",
   "metadata": {},
   "outputs": [],
   "source": [
    "#import the library\n",
    "from sklearn.naive_bayes import GaussianNB"
   ]
  },
  {
   "cell_type": "code",
   "execution_count": 168,
   "id": "1621f1b0",
   "metadata": {},
   "outputs": [
    {
     "data": {
      "text/plain": [
       "GaussianNB()"
      ]
     },
     "execution_count": 168,
     "metadata": {},
     "output_type": "execute_result"
    }
   ],
   "source": [
    "#initializing the NB\n",
    "gnb = GaussianNB()\n",
    "gnb"
   ]
  },
  {
   "cell_type": "code",
   "execution_count": 169,
   "id": "6c8b2ee1",
   "metadata": {},
   "outputs": [
    {
     "data": {
      "text/plain": [
       "GaussianNB()"
      ]
     },
     "execution_count": 169,
     "metadata": {},
     "output_type": "execute_result"
    }
   ],
   "source": [
    "#fit the data into the model\n",
    "gnb.fit(X_train,y_train)"
   ]
  },
  {
   "cell_type": "code",
   "execution_count": 170,
   "id": "a18e4fef",
   "metadata": {},
   "outputs": [
    {
     "data": {
      "text/plain": [
       "array([6, 6, 6, ..., 0, 1, 6], dtype=int64)"
      ]
     },
     "execution_count": 170,
     "metadata": {},
     "output_type": "execute_result"
    }
   ],
   "source": [
    "#predict the value\n",
    "pre_gnb = gnb.predict(X_test)\n",
    "pre_gnb"
   ]
  },
  {
   "cell_type": "code",
   "execution_count": 171,
   "id": "b151c1a8",
   "metadata": {},
   "outputs": [
    {
     "data": {
      "text/plain": [
       "0.8968049944913699"
      ]
     },
     "execution_count": 171,
     "metadata": {},
     "output_type": "execute_result"
    }
   ],
   "source": [
    "#Check the accuracy of the predicted value\n",
    "acc_gnb=metrics.accuracy_score(y_test,pre_gnb)\n",
    "acc_gnb"
   ]
  },
  {
   "cell_type": "code",
   "execution_count": 178,
   "id": "2c904b88",
   "metadata": {},
   "outputs": [
    {
     "data": {
      "text/plain": [
       "'Accuracy = 89.68049944913699%'"
      ]
     },
     "execution_count": 178,
     "metadata": {},
     "output_type": "execute_result"
    }
   ],
   "source": [
    "#accuracy in percentage\n",
    "aCC_3=\"Accuracy = {}%\".format((sum(y_test==pre_gnb)/y_test.shape[0])*100)\n",
    "aCC_3"
   ]
  },
  {
   "cell_type": "code",
   "execution_count": 185,
   "id": "73dd1844",
   "metadata": {},
   "outputs": [
    {
     "name": "stdout",
     "output_type": "stream",
     "text": [
      "89.68 %\n"
     ]
    }
   ],
   "source": [
    "#round off the value\n",
    "r3 = round(89.68049944913699,2)\n",
    "print(r3,'%')"
   ]
  },
  {
   "cell_type": "markdown",
   "id": "df59701a",
   "metadata": {},
   "source": [
    "K-Fold Cross Validation"
   ]
  },
  {
   "cell_type": "code",
   "execution_count": 172,
   "id": "d4989c4b",
   "metadata": {},
   "outputs": [
    {
     "data": {
      "text/plain": [
       "array([0.90358127, 0.8953168 , 0.89072544, 0.88613407, 0.91000918,\n",
       "       0.8989899 , 0.89164371, 0.90541781, 0.89338235, 0.90257353])"
      ]
     },
     "execution_count": 172,
     "metadata": {},
     "output_type": "execute_result"
    }
   ],
   "source": [
    "#import the library for cross validation\n",
    "from sklearn.model_selection import cross_val_score\n",
    "\n",
    "NB=GaussianNB()\n",
    "score_2 = cross_val_score(NB, X_train,y_train,cv=10)\n",
    "score_2"
   ]
  },
  {
   "cell_type": "code",
   "execution_count": 235,
   "id": "5ca4e322",
   "metadata": {},
   "outputs": [
    {
     "data": {
      "text/plain": [
       "0.8978"
      ]
     },
     "execution_count": 235,
     "metadata": {},
     "output_type": "execute_result"
    }
   ],
   "source": [
    "#mean of validation score\n",
    "mean3 = np.mean(score_2)\n",
    "R3 = round(mean3,4)\n",
    "R3"
   ]
  },
  {
   "cell_type": "code",
   "execution_count": 227,
   "id": "2e53688d",
   "metadata": {},
   "outputs": [
    {
     "data": {
      "text/plain": [
       "[92.77, 93.5, 89.68]"
      ]
     },
     "execution_count": 227,
     "metadata": {},
     "output_type": "execute_result"
    }
   ],
   "source": [
    "#accuracy value of all three algorithm\n",
    "Acc = [r1,r2,r3]\n",
    "Acc"
   ]
  },
  {
   "cell_type": "markdown",
   "id": "f08ac3dc",
   "metadata": {},
   "source": [
    "# Visualization of Between the all three models:"
   ]
  },
  {
   "cell_type": "code",
   "execution_count": 249,
   "id": "e0a8c948",
   "metadata": {},
   "outputs": [
    {
     "data": {
      "image/png": "[encoded data removed]",
      "text/plain": [
       "<Figure size 432x288 with 1 Axes>"
      ]
     },
     "metadata": {},
     "output_type": "display_data"
    },
    {
     "data": {
      "text/plain": [
       "<Figure size 144x144 with 0 Axes>"
      ]
     },
     "metadata": {},
     "output_type": "display_data"
    }
   ],
   "source": [
    "myexplode = [0,0.2,0]\n",
    "clas=['Knn','DT','NB']\n",
    "plt.pie(Acc,labels=clas,radius=1.13,explode=myexplode,autopct='%.2f%%', shadow=True,startangle=45)\n",
    "plt.title('Comparision between the accuracy of the models:',size=15)\n",
    "plt.figure(figsize=(2,2))\n",
    "plt.show()"
   ]
  },
  {
   "cell_type": "code",
   "execution_count": 241,
   "id": "4c0de218",
   "metadata": {},
   "outputs": [],
   "source": [
    "from prettytable import PrettyTable"
   ]
  },
  {
   "cell_type": "code",
   "execution_count": 242,
   "id": "ff0e7710",
   "metadata": {},
   "outputs": [],
   "source": [
    "Column = ['Model','Accuracy','Validation']\n",
    "Table = PrettyTable()"
   ]
  },
  {
   "cell_type": "code",
   "execution_count": 243,
   "id": "44f093f2",
   "metadata": {},
   "outputs": [
    {
     "data": {
      "text/html": [
       "<table>\n",
       "    <thead>\n",
       "        <tr>\n",
       "            <th>Model</th>\n",
       "            <th>Accuracy</th>\n",
       "            <th>Validation</th>\n",
       "        </tr>\n",
       "    </thead>\n",
       "    <tbody>\n",
       "        <tr>\n",
       "            <td>KNN</td>\n",
       "            <td>92.77</td>\n",
       "            <td>0.9229</td>\n",
       "        </tr>\n",
       "        <tr>\n",
       "            <td>SVM</td>\n",
       "            <td>93.5</td>\n",
       "            <td>0.9274</td>\n",
       "        </tr>\n",
       "        <tr>\n",
       "            <td>Naive_Bayes</td>\n",
       "            <td>89.68</td>\n",
       "            <td>0.8978</td>\n",
       "        </tr>\n",
       "    </tbody>\n",
       "</table>"
      ],
      "text/plain": [
       "+-------------+----------+------------+\n",
       "|    Model    | Accuracy | Validation |\n",
       "+-------------+----------+------------+\n",
       "|     KNN     |  92.77   |   0.9229   |\n",
       "|     SVM     |   93.5   |   0.9274   |\n",
       "| Naive_Bayes |  89.68   |   0.8978   |\n",
       "+-------------+----------+------------+"
      ]
     },
     "execution_count": 243,
     "metadata": {},
     "output_type": "execute_result"
    }
   ],
   "source": [
    "Table.add_column(Column[0],['KNN','SVM','Naive_Bayes'])\n",
    "Table.add_column(Column[1],[r1,r2,r3])\n",
    "Table.add_column(Column[2],[R1,R2,R3])\n",
    "Table"
   ]
  },
  {
   "cell_type": "markdown",
   "id": "71d6f655",
   "metadata": {},
   "source": [
    "# Conclusion"
   ]
  },
  {
   "cell_type": "code",
   "execution_count": 250,
   "id": "b893d5fb",
   "metadata": {},
   "outputs": [
    {
     "data": {
      "text/plain": [
       "'\\nThe target varible is multi class. All the model are best fit for the data set approximately. The higher accuracy and validation\\nof the model is SVM. SVM is best for the data set in all models. KNN is less accurate than SVM but it can not be assume in a \\nworst model, it is also good for the data set. Naive bayes has low accuracy around all models. \\n\\n'"
      ]
     },
     "execution_count": 250,
     "metadata": {},
     "output_type": "execute_result"
    }
   ],
   "source": [
    "'''\n",
    "The target varible is multi class. All the model are best fit for the data set approximately. The higher accuracy and validation\n",
    "of the model is SVM. SVM is best for the data set in all models. KNN is less accurate than SVM but it can not be assume in a \n",
    "worst model, it is also good for the data set. Naive bayes has low accuracy around all models. \n",
    "\n",
    "'''"
   ]
  },
  {
   "cell_type": "code",
   "execution_count": null,
   "id": "cb8883e2",
   "metadata": {},
   "outputs": [],
   "source": []
  }
 ],
 "metadata": {
  "kernelspec": {
   "display_name": "Python 3",
   "language": "python",
   "name": "python3"
  },
  "language_info": {
   "codemirror_mode": {
    "name": "ipython",
    "version": 3
   },
   "file_extension": ".py",
   "mimetype": "text/x-python",
   "name": "python",
   "nbconvert_exporter": "python",
   "pygments_lexer": "ipython3",
   "version": "3.8.8"
  }
 },
 "nbformat": 4,
 "nbformat_minor": 5
}
